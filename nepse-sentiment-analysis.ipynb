{
 "cells": [
  {
   "attachments": {},
   "cell_type": "markdown",
   "metadata": {},
   "source": [
    "# Build Model For Sentiment Analysis"
   ]
  },
  {
   "attachments": {},
   "cell_type": "markdown",
   "metadata": {},
   "source": [
    "### Load Twitter Data (from -2017-2022)"
   ]
  },
  {
   "cell_type": "code",
   "execution_count": 1,
   "metadata": {},
   "outputs": [
    {
     "name": "stdout",
     "output_type": "stream",
     "text": [
      "(1600000, 6)\n"
     ]
    },
    {
     "data": {
      "text/html": [
       "<div>\n",
       "<style scoped>\n",
       "    .dataframe tbody tr th:only-of-type {\n",
       "        vertical-align: middle;\n",
       "    }\n",
       "\n",
       "    .dataframe tbody tr th {\n",
       "        vertical-align: top;\n",
       "    }\n",
       "\n",
       "    .dataframe thead th {\n",
       "        text-align: right;\n",
       "    }\n",
       "</style>\n",
       "<table border=\"1\" class=\"dataframe\">\n",
       "  <thead>\n",
       "    <tr style=\"text-align: right;\">\n",
       "      <th></th>\n",
       "      <th>target</th>\n",
       "      <th>id</th>\n",
       "      <th>date</th>\n",
       "      <th>flag</th>\n",
       "      <th>user</th>\n",
       "      <th>text</th>\n",
       "    </tr>\n",
       "  </thead>\n",
       "  <tbody>\n",
       "    <tr>\n",
       "      <th>0</th>\n",
       "      <td>0</td>\n",
       "      <td>1467810369</td>\n",
       "      <td>Mon Apr 06 22:19:45 PDT 2009</td>\n",
       "      <td>NO_QUERY</td>\n",
       "      <td>_TheSpecialOne_</td>\n",
       "      <td>@switchfoot http://twitpic.com/2y1zl - Awww, t...</td>\n",
       "    </tr>\n",
       "    <tr>\n",
       "      <th>1</th>\n",
       "      <td>0</td>\n",
       "      <td>1467810672</td>\n",
       "      <td>Mon Apr 06 22:19:49 PDT 2009</td>\n",
       "      <td>NO_QUERY</td>\n",
       "      <td>scotthamilton</td>\n",
       "      <td>is upset that he can't update his Facebook by ...</td>\n",
       "    </tr>\n",
       "    <tr>\n",
       "      <th>2</th>\n",
       "      <td>0</td>\n",
       "      <td>1467810917</td>\n",
       "      <td>Mon Apr 06 22:19:53 PDT 2009</td>\n",
       "      <td>NO_QUERY</td>\n",
       "      <td>mattycus</td>\n",
       "      <td>@Kenichan I dived many times for the ball. Man...</td>\n",
       "    </tr>\n",
       "    <tr>\n",
       "      <th>3</th>\n",
       "      <td>0</td>\n",
       "      <td>1467811184</td>\n",
       "      <td>Mon Apr 06 22:19:57 PDT 2009</td>\n",
       "      <td>NO_QUERY</td>\n",
       "      <td>ElleCTF</td>\n",
       "      <td>my whole body feels itchy and like its on fire</td>\n",
       "    </tr>\n",
       "    <tr>\n",
       "      <th>4</th>\n",
       "      <td>0</td>\n",
       "      <td>1467811193</td>\n",
       "      <td>Mon Apr 06 22:19:57 PDT 2009</td>\n",
       "      <td>NO_QUERY</td>\n",
       "      <td>Karoli</td>\n",
       "      <td>@nationwideclass no, it's not behaving at all....</td>\n",
       "    </tr>\n",
       "  </tbody>\n",
       "</table>\n",
       "</div>"
      ],
      "text/plain": [
       "   target          id                          date      flag  \\\n",
       "0       0  1467810369  Mon Apr 06 22:19:45 PDT 2009  NO_QUERY   \n",
       "1       0  1467810672  Mon Apr 06 22:19:49 PDT 2009  NO_QUERY   \n",
       "2       0  1467810917  Mon Apr 06 22:19:53 PDT 2009  NO_QUERY   \n",
       "3       0  1467811184  Mon Apr 06 22:19:57 PDT 2009  NO_QUERY   \n",
       "4       0  1467811193  Mon Apr 06 22:19:57 PDT 2009  NO_QUERY   \n",
       "\n",
       "              user                                               text  \n",
       "0  _TheSpecialOne_  @switchfoot http://twitpic.com/2y1zl - Awww, t...  \n",
       "1    scotthamilton  is upset that he can't update his Facebook by ...  \n",
       "2         mattycus  @Kenichan I dived many times for the ball. Man...  \n",
       "3          ElleCTF    my whole body feels itchy and like its on fire   \n",
       "4           Karoli  @nationwideclass no, it's not behaving at all....  "
      ]
     },
     "execution_count": 1,
     "metadata": {},
     "output_type": "execute_result"
    }
   ],
   "source": [
    "import pandas as pd\n",
    "twitter_data =  pd.read_csv('./data/twitter-data.csv', names=['target', 'id', 'date', 'flag', 'user', 'text'], encoding='latin-1')\n",
    "# twitter_data['date'] = twitter_data['date'].str.replace('PDT', ' ', regex=True)\n",
    "# twitter_data.date = pd.to_datetime(twitter_data.date).dt.strftime('%Y-%m-%d')\n",
    "# twitter_data = twitter_data.set_index('date')\n",
    "print(twitter_data.shape)\n",
    "twitter_data.head()\n"
   ]
  },
  {
   "cell_type": "code",
   "execution_count": null,
   "metadata": {},
   "outputs": [
    {
     "data": {
      "text/html": [
       "<div>\n",
       "<style scoped>\n",
       "    .dataframe tbody tr th:only-of-type {\n",
       "        vertical-align: middle;\n",
       "    }\n",
       "\n",
       "    .dataframe tbody tr th {\n",
       "        vertical-align: top;\n",
       "    }\n",
       "\n",
       "    .dataframe thead th {\n",
       "        text-align: right;\n",
       "    }\n",
       "</style>\n",
       "<table border=\"1\" class=\"dataframe\">\n",
       "  <thead>\n",
       "    <tr style=\"text-align: right;\">\n",
       "      <th></th>\n",
       "      <th>target</th>\n",
       "      <th>id</th>\n",
       "      <th>date</th>\n",
       "      <th>flag</th>\n",
       "      <th>user</th>\n",
       "      <th>text</th>\n",
       "    </tr>\n",
       "  </thead>\n",
       "  <tbody>\n",
       "    <tr>\n",
       "      <th>1599995</th>\n",
       "      <td>4</td>\n",
       "      <td>2193601966</td>\n",
       "      <td>Tue Jun 16 08:40:49 PDT 2009</td>\n",
       "      <td>NO_QUERY</td>\n",
       "      <td>AmandaMarie1028</td>\n",
       "      <td>Just woke up. Having no school is the best fee...</td>\n",
       "    </tr>\n",
       "    <tr>\n",
       "      <th>1599996</th>\n",
       "      <td>4</td>\n",
       "      <td>2193601969</td>\n",
       "      <td>Tue Jun 16 08:40:49 PDT 2009</td>\n",
       "      <td>NO_QUERY</td>\n",
       "      <td>TheWDBoards</td>\n",
       "      <td>TheWDB.com - Very cool to hear old Walt interv...</td>\n",
       "    </tr>\n",
       "    <tr>\n",
       "      <th>1599997</th>\n",
       "      <td>4</td>\n",
       "      <td>2193601991</td>\n",
       "      <td>Tue Jun 16 08:40:49 PDT 2009</td>\n",
       "      <td>NO_QUERY</td>\n",
       "      <td>bpbabe</td>\n",
       "      <td>Are you ready for your MoJo Makeover? Ask me f...</td>\n",
       "    </tr>\n",
       "    <tr>\n",
       "      <th>1599998</th>\n",
       "      <td>4</td>\n",
       "      <td>2193602064</td>\n",
       "      <td>Tue Jun 16 08:40:49 PDT 2009</td>\n",
       "      <td>NO_QUERY</td>\n",
       "      <td>tinydiamondz</td>\n",
       "      <td>Happy 38th Birthday to my boo of alll time!!! ...</td>\n",
       "    </tr>\n",
       "    <tr>\n",
       "      <th>1599999</th>\n",
       "      <td>4</td>\n",
       "      <td>2193602129</td>\n",
       "      <td>Tue Jun 16 08:40:50 PDT 2009</td>\n",
       "      <td>NO_QUERY</td>\n",
       "      <td>RyanTrevMorris</td>\n",
       "      <td>happy #charitytuesday @theNSPCC @SparksCharity...</td>\n",
       "    </tr>\n",
       "  </tbody>\n",
       "</table>\n",
       "</div>"
      ],
      "text/plain": [
       "         target          id                          date      flag  \\\n",
       "1599995       4  2193601966  Tue Jun 16 08:40:49 PDT 2009  NO_QUERY   \n",
       "1599996       4  2193601969  Tue Jun 16 08:40:49 PDT 2009  NO_QUERY   \n",
       "1599997       4  2193601991  Tue Jun 16 08:40:49 PDT 2009  NO_QUERY   \n",
       "1599998       4  2193602064  Tue Jun 16 08:40:49 PDT 2009  NO_QUERY   \n",
       "1599999       4  2193602129  Tue Jun 16 08:40:50 PDT 2009  NO_QUERY   \n",
       "\n",
       "                    user                                               text  \n",
       "1599995  AmandaMarie1028  Just woke up. Having no school is the best fee...  \n",
       "1599996      TheWDBoards  TheWDB.com - Very cool to hear old Walt interv...  \n",
       "1599997           bpbabe  Are you ready for your MoJo Makeover? Ask me f...  \n",
       "1599998     tinydiamondz  Happy 38th Birthday to my boo of alll time!!! ...  \n",
       "1599999   RyanTrevMorris  happy #charitytuesday @theNSPCC @SparksCharity...  "
      ]
     },
     "execution_count": 2,
     "metadata": {},
     "output_type": "execute_result"
    }
   ],
   "source": [
    "twitter_data.tail()"
   ]
  },
  {
   "attachments": {},
   "cell_type": "markdown",
   "metadata": {},
   "source": [
    "### Select two columns text and target and split text and train data"
   ]
  },
  {
   "cell_type": "code",
   "execution_count": 2,
   "metadata": {},
   "outputs": [],
   "source": [
    "from sklearn.model_selection import train_test_split\n",
    "\n",
    "selected_twitter_data = twitter_data[['target', 'text']]\n",
    "X = selected_twitter_data[\"text\"]\n",
    "y = selected_twitter_data[\"target\"]\n",
    "y = y.replace(4,1)# in twitter 4 is for positive and 0 is negative sentiment\n",
    "X_train, X_test, y_train, y_test = train_test_split(X, y, train_size=0.8, random_state=42)"
   ]
  },
  {
   "attachments": {},
   "cell_type": "markdown",
   "metadata": {},
   "source": [
    "### Tokenize and create token sequences "
   ]
  },
  {
   "cell_type": "code",
   "execution_count": 3,
   "metadata": {},
   "outputs": [
    {
     "name": "stderr",
     "output_type": "stream",
     "text": [
      "2023-04-19 23:55:46.236704: I tensorflow/core/platform/cpu_feature_guard.cc:193] This TensorFlow binary is optimized with oneAPI Deep Neural Network Library (oneDNN) to use the following CPU instructions in performance-critical operations:  AVX2 AVX_VNNI FMA\n",
      "To enable them in other operations, rebuild TensorFlow with the appropriate compiler flags.\n",
      "2023-04-19 23:55:46.451381: I tensorflow/core/util/port.cc:104] oneDNN custom operations are on. You may see slightly different numerical results due to floating-point round-off errors from different computation orders. To turn them off, set the environment variable `TF_ENABLE_ONEDNN_OPTS=0`.\n",
      "2023-04-19 23:55:46.490487: W tensorflow/compiler/xla/stream_executor/platform/default/dso_loader.cc:64] Could not load dynamic library 'libcudart.so.11.0'; dlerror: libcudart.so.11.0: cannot open shared object file: No such file or directory\n",
      "2023-04-19 23:55:46.490519: I tensorflow/compiler/xla/stream_executor/cuda/cudart_stub.cc:29] Ignore above cudart dlerror if you do not have a GPU set up on your machine.\n",
      "2023-04-19 23:55:47.314315: W tensorflow/compiler/xla/stream_executor/platform/default/dso_loader.cc:64] Could not load dynamic library 'libnvinfer.so.7'; dlerror: libnvinfer.so.7: cannot open shared object file: No such file or directory\n",
      "2023-04-19 23:55:47.314377: W tensorflow/compiler/xla/stream_executor/platform/default/dso_loader.cc:64] Could not load dynamic library 'libnvinfer_plugin.so.7'; dlerror: libnvinfer_plugin.so.7: cannot open shared object file: No such file or directory\n",
      "2023-04-19 23:55:47.314382: W tensorflow/compiler/tf2tensorrt/utils/py_utils.cc:38] TF-TRT Warning: Cannot dlopen some TensorRT libraries. If you would like to use Nvidia GPU with TensorRT, please make sure the missing libraries mentioned above are installed properly.\n"
     ]
    }
   ],
   "source": [
    "import tensorflow as tf\n",
    "from keras.preprocessing.text import Tokenizer\n",
    "from keras.utils import pad_sequences\n",
    "\n",
    "\n",
    "# Define parameters for the module\n",
    "vocab_size = 20000\n",
    "embedding_dim = 32\n",
    "max_length = 100\n",
    "trunc_type='post'\n",
    "padding_type='post'\n",
    "oov_tok = \"<OOV>\"\n",
    "training_size = 20000\n",
    "\n",
    "# tokenize the tweets\n",
    "tokenizer = Tokenizer(num_words=vocab_size, oov_token=oov_tok)\n",
    "tokenizer.fit_on_texts(X_train)\n",
    "word_index = tokenizer.word_index\n",
    "\n",
    "# create token sequences\n",
    "X_train_sequences = tokenizer.texts_to_sequences(X_train)\n",
    "X_train_padded = pad_sequences(X_train_sequences, maxlen=max_length, padding=padding_type, truncating=trunc_type)\n",
    "\n",
    "X_test_sequences = tokenizer.texts_to_sequences(X_test)\n",
    "X_test_padded = pad_sequences(X_test_sequences, maxlen=max_length, padding=padding_type, truncating=trunc_type)\n"
   ]
  },
  {
   "attachments": {},
   "cell_type": "markdown",
   "metadata": {},
   "source": [
    "### Create  Model For Sentiment Analysis using twitter data"
   ]
  },
  {
   "cell_type": "code",
   "execution_count": null,
   "metadata": {},
   "outputs": [
    {
     "name": "stderr",
     "output_type": "stream",
     "text": [
      "2023-04-15 18:42:14.526849: I tensorflow/compiler/xla/stream_executor/cuda/cuda_gpu_executor.cc:981] successful NUMA node read from SysFS had negative value (-1), but there must be at least one NUMA node, so returning NUMA node zero\n",
      "2023-04-15 18:42:14.527075: W tensorflow/compiler/xla/stream_executor/platform/default/dso_loader.cc:64] Could not load dynamic library 'libcudart.so.11.0'; dlerror: libcudart.so.11.0: cannot open shared object file: No such file or directory\n",
      "2023-04-15 18:42:14.527139: W tensorflow/compiler/xla/stream_executor/platform/default/dso_loader.cc:64] Could not load dynamic library 'libcublas.so.11'; dlerror: libcublas.so.11: cannot open shared object file: No such file or directory\n",
      "2023-04-15 18:42:14.527182: W tensorflow/compiler/xla/stream_executor/platform/default/dso_loader.cc:64] Could not load dynamic library 'libcublasLt.so.11'; dlerror: libcublasLt.so.11: cannot open shared object file: No such file or directory\n",
      "2023-04-15 18:42:14.527220: W tensorflow/compiler/xla/stream_executor/platform/default/dso_loader.cc:64] Could not load dynamic library 'libcufft.so.10'; dlerror: libcufft.so.10: cannot open shared object file: No such file or directory\n",
      "2023-04-15 18:42:14.547687: W tensorflow/compiler/xla/stream_executor/platform/default/dso_loader.cc:64] Could not load dynamic library 'libcusparse.so.11'; dlerror: libcusparse.so.11: cannot open shared object file: No such file or directory\n",
      "2023-04-15 18:42:14.547747: W tensorflow/compiler/xla/stream_executor/platform/default/dso_loader.cc:64] Could not load dynamic library 'libcudnn.so.8'; dlerror: libcudnn.so.8: cannot open shared object file: No such file or directory\n",
      "2023-04-15 18:42:14.547758: W tensorflow/core/common_runtime/gpu/gpu_device.cc:1934] Cannot dlopen some GPU libraries. Please make sure the missing libraries mentioned above are installed properly if you would like to use GPU. Follow the guide at https://www.tensorflow.org/install/gpu for how to download and setup the required libraries for your platform.\n",
      "Skipping registering GPU devices...\n",
      "2023-04-15 18:42:14.549364: I tensorflow/core/platform/cpu_feature_guard.cc:193] This TensorFlow binary is optimized with oneAPI Deep Neural Network Library (oneDNN) to use the following CPU instructions in performance-critical operations:  AVX2 AVX_VNNI FMA\n",
      "To enable them in other operations, rebuild TensorFlow with the appropriate compiler flags.\n"
     ]
    },
    {
     "name": "stdout",
     "output_type": "stream",
     "text": [
      "Epoch 1/5\n",
      "20000/20000 [==============================] - 1635s 82ms/step - loss: 0.4167 - accuracy: 0.8103 - val_loss: 0.3859 - val_accuracy: 0.8246\n",
      "Epoch 2/5\n",
      "20000/20000 [==============================] - 1654s 83ms/step - loss: 0.3735 - accuracy: 0.8343 - val_loss: 0.3737 - val_accuracy: 0.8316\n",
      "Epoch 3/5\n",
      "20000/20000 [==============================] - 1703s 85ms/step - loss: 0.3522 - accuracy: 0.8456 - val_loss: 0.3761 - val_accuracy: 0.8323\n",
      "Epoch 4/5\n",
      "20000/20000 [==============================] - 1923s 96ms/step - loss: 0.3339 - accuracy: 0.8549 - val_loss: 0.3753 - val_accuracy: 0.8327\n",
      "Epoch 5/5\n",
      "20000/20000 [==============================] - 2023s 101ms/step - loss: 0.3166 - accuracy: 0.8637 - val_loss: 0.3826 - val_accuracy: 0.8312\n"
     ]
    },
    {
     "name": "stderr",
     "output_type": "stream",
     "text": [
      "WARNING:absl:Found untraced functions such as _update_step_xla, lstm_cell_1_layer_call_fn, lstm_cell_1_layer_call_and_return_conditional_losses, lstm_cell_2_layer_call_fn, lstm_cell_2_layer_call_and_return_conditional_losses while saving (showing 5 of 9). These functions will not be directly callable after loading.\n"
     ]
    },
    {
     "name": "stdout",
     "output_type": "stream",
     "text": [
      "INFO:tensorflow:Assets written to: ./data/sentiment-analysis-model/assets\n"
     ]
    },
    {
     "name": "stderr",
     "output_type": "stream",
     "text": [
      "INFO:tensorflow:Assets written to: ./data/sentiment-analysis-model/assets\n"
     ]
    },
    {
     "name": "stdout",
     "output_type": "stream",
     "text": [
      "10000/10000 - 253s - loss: 0.3826 - accuracy: 0.8312 - 253s/epoch - 25ms/step\n",
      "Test Accuracy:  0.8312031030654907\n"
     ]
    }
   ],
   "source": [
    "from keras.models import Sequential\n",
    "from keras.layers import Embedding, Dense, Dropout,LSTM,Bidirectional\n",
    "num_epochs = 5\n",
    "\n",
    "# Define a sequential model \n",
    "twitter_model = Sequential([\n",
    "    \n",
    "# Add an embedding layer that converts input integers to dense vectors of fixed size\n",
    "Embedding(vocab_size, embedding_dim, input_length=max_length),\n",
    "    \n",
    "# Add a bidirectional LSTM layer with 64 units, which processes the input sequence in both directions\n",
    "# and returns a sequence of output values for each input time step\n",
    "Bidirectional(LSTM(64, return_sequences=True)),\n",
    "    \n",
    "# Add another bidirectional LSTM layer with 32 units, which processes the output sequence of the first LSTM layer\n",
    "# and returns a single output value for the entire sequence\n",
    "Bidirectional(LSTM(32)),\n",
    "    \n",
    "# Add a fully connected dense layer with 64 units and a ReLU activation function\n",
    "Dense(64, activation='relu'),\n",
    "    \n",
    "# Add a dropout layer to randomly drop out 50% of the input units during training, to prevent overfitting\n",
    "Dropout(0.5),\n",
    "    \n",
    "# Add a final fully connected dense layer with a single output unit and a sigmoid activation function,\n",
    "# which outputs a probability between 0 and 1 of the input sequence belonging to a particular class\n",
    "Dense(1, activation='sigmoid')\n",
    "])\n",
    "twitter_model.compile(loss='binary_crossentropy', optimizer='adam', metrics=['accuracy'])\n",
    "\n",
    "twitter_model.summary()\n",
    "twitter_model.fit(X_train_padded, y_train, epochs=num_epochs,batch_size=64, validation_data=(X_test_padded, y_test))\n",
    "twitter_model.save('./data/sentiment-analysis-model')\n",
    "# Evaluate the model\n",
    "test_loss, test_acc = twitter_model.evaluate(X_test_padded, y_test, verbose=2)\n",
    "print(\"Test Accuracy: \", test_acc)\n"
   ]
  },
  {
   "attachments": {},
   "cell_type": "markdown",
   "metadata": {},
   "source": [
    "### Analyse the Model"
   ]
  },
  {
   "cell_type": "code",
   "execution_count": null,
   "metadata": {},
   "outputs": [
    {
     "name": "stdout",
     "output_type": "stream",
     "text": [
      "10000/10000 - 167s - loss: 0.4199 - accuracy: 0.8064 - 167s/epoch - 17ms/step\n",
      "Test Accuracy:  0.8063781261444092\n",
      "1/1 [==============================] - 1s 628ms/step\n",
      "[[0.92664796]]\n",
      "1/1 [==============================] - 0s 19ms/step\n",
      "[[0.03033858]]\n"
     ]
    }
   ],
   "source": [
    "\n"
   ]
  },
  {
   "attachments": {},
   "cell_type": "markdown",
   "metadata": {},
   "source": [
    "### Test will text input"
   ]
  },
  {
   "cell_type": "code",
   "execution_count": null,
   "metadata": {},
   "outputs": [
    {
     "name": "stdout",
     "output_type": "stream",
     "text": [
      "1/1 [==============================] - 0s 102ms/step\n",
      "[[0.9495871]]\n",
      "1/1 [==============================] - 0s 22ms/step\n",
      "[[0.03625218]]\n"
     ]
    }
   ],
   "source": [
    "# Test with input entry\n",
    "entry = ['I am happy']\n",
    "test_text = tokenizer.texts_to_sequences(entry)\n",
    "test_text_padded = pad_sequences(test_text, maxlen=max_length, padding=padding_type, truncating=trunc_type)\n",
    "\n",
    "prediction = twitter_model.predict(test_text_padded)\n",
    "#0 : bad\n",
    "#1 : good\n",
    "print(prediction)\n",
    "\n",
    "entry = ['Our economy is in very bad condition']\n",
    "test_text = tokenizer.texts_to_sequences(entry)\n",
    "test_text_padded = pad_sequences(test_text, maxlen=max_length, padding=padding_type, truncating=trunc_type)\n",
    "\n",
    "prediction = twitter_model.predict(test_text_padded)\n",
    "#0 : bad\n",
    "#1 : good\n",
    "print(prediction)"
   ]
  },
  {
   "attachments": {},
   "cell_type": "markdown",
   "metadata": {},
   "source": [
    "## Import NEPSE Combined data (includes Inflation Rate, Interest Rate, Liquidity)"
   ]
  },
  {
   "cell_type": "code",
   "execution_count": 2,
   "metadata": {},
   "outputs": [
    {
     "data": {
      "text/html": [
       "<div>\n",
       "<style scoped>\n",
       "    .dataframe tbody tr th:only-of-type {\n",
       "        vertical-align: middle;\n",
       "    }\n",
       "\n",
       "    .dataframe tbody tr th {\n",
       "        vertical-align: top;\n",
       "    }\n",
       "\n",
       "    .dataframe thead th {\n",
       "        text-align: right;\n",
       "    }\n",
       "</style>\n",
       "<table border=\"1\" class=\"dataframe\">\n",
       "  <thead>\n",
       "    <tr style=\"text-align: right;\">\n",
       "      <th></th>\n",
       "      <th>Date</th>\n",
       "      <th>index_id</th>\n",
       "      <th>open</th>\n",
       "      <th>high</th>\n",
       "      <th>low</th>\n",
       "      <th>close_index</th>\n",
       "      <th>per_change</th>\n",
       "      <th>change_</th>\n",
       "      <th>turnover</th>\n",
       "      <th>DT_Row_Index</th>\n",
       "      <th>BaseInterestRate</th>\n",
       "      <th>InflationRate</th>\n",
       "      <th>Balance</th>\n",
       "    </tr>\n",
       "  </thead>\n",
       "  <tbody>\n",
       "    <tr>\n",
       "      <th>0</th>\n",
       "      <td>2017-07-16</td>\n",
       "      <td>12</td>\n",
       "      <td>1582.67</td>\n",
       "      <td>1584.38</td>\n",
       "      <td>1580.08</td>\n",
       "      <td>1583.57</td>\n",
       "      <td>0.06</td>\n",
       "      <td>0.90</td>\n",
       "      <td>4.307240e+08</td>\n",
       "      <td>1309</td>\n",
       "      <td>5.75</td>\n",
       "      <td>3.4</td>\n",
       "      <td>5.422000e+10</td>\n",
       "    </tr>\n",
       "    <tr>\n",
       "      <th>1</th>\n",
       "      <td>2017-07-17</td>\n",
       "      <td>12</td>\n",
       "      <td>1583.57</td>\n",
       "      <td>1604.31</td>\n",
       "      <td>1582.48</td>\n",
       "      <td>1604.15</td>\n",
       "      <td>1.30</td>\n",
       "      <td>20.58</td>\n",
       "      <td>5.992900e+08</td>\n",
       "      <td>1308</td>\n",
       "      <td>5.75</td>\n",
       "      <td>3.4</td>\n",
       "      <td>5.422000e+10</td>\n",
       "    </tr>\n",
       "    <tr>\n",
       "      <th>2</th>\n",
       "      <td>2017-07-18</td>\n",
       "      <td>12</td>\n",
       "      <td>1604.15</td>\n",
       "      <td>1638.41</td>\n",
       "      <td>1603.76</td>\n",
       "      <td>1638.41</td>\n",
       "      <td>2.14</td>\n",
       "      <td>34.26</td>\n",
       "      <td>1.102710e+09</td>\n",
       "      <td>1307</td>\n",
       "      <td>5.75</td>\n",
       "      <td>3.4</td>\n",
       "      <td>5.422000e+10</td>\n",
       "    </tr>\n",
       "    <tr>\n",
       "      <th>3</th>\n",
       "      <td>2017-07-19</td>\n",
       "      <td>12</td>\n",
       "      <td>1638.41</td>\n",
       "      <td>1652.73</td>\n",
       "      <td>1634.97</td>\n",
       "      <td>1637.27</td>\n",
       "      <td>-0.07</td>\n",
       "      <td>-1.14</td>\n",
       "      <td>1.107470e+09</td>\n",
       "      <td>1306</td>\n",
       "      <td>5.75</td>\n",
       "      <td>3.4</td>\n",
       "      <td>5.422000e+10</td>\n",
       "    </tr>\n",
       "    <tr>\n",
       "      <th>4</th>\n",
       "      <td>2017-07-20</td>\n",
       "      <td>12</td>\n",
       "      <td>1637.27</td>\n",
       "      <td>1640.34</td>\n",
       "      <td>1633.60</td>\n",
       "      <td>1635.75</td>\n",
       "      <td>-0.09</td>\n",
       "      <td>-1.52</td>\n",
       "      <td>9.079460e+08</td>\n",
       "      <td>1305</td>\n",
       "      <td>5.75</td>\n",
       "      <td>3.4</td>\n",
       "      <td>5.422000e+10</td>\n",
       "    </tr>\n",
       "  </tbody>\n",
       "</table>\n",
       "</div>"
      ],
      "text/plain": [
       "         Date  index_id     open     high      low  close_index  per_change  \\\n",
       "0  2017-07-16        12  1582.67  1584.38  1580.08      1583.57        0.06   \n",
       "1  2017-07-17        12  1583.57  1604.31  1582.48      1604.15        1.30   \n",
       "2  2017-07-18        12  1604.15  1638.41  1603.76      1638.41        2.14   \n",
       "3  2017-07-19        12  1638.41  1652.73  1634.97      1637.27       -0.07   \n",
       "4  2017-07-20        12  1637.27  1640.34  1633.60      1635.75       -0.09   \n",
       "\n",
       "   change_      turnover  DT_Row_Index  BaseInterestRate  InflationRate  \\\n",
       "0     0.90  4.307240e+08          1309              5.75            3.4   \n",
       "1    20.58  5.992900e+08          1308              5.75            3.4   \n",
       "2    34.26  1.102710e+09          1307              5.75            3.4   \n",
       "3    -1.14  1.107470e+09          1306              5.75            3.4   \n",
       "4    -1.52  9.079460e+08          1305              5.75            3.4   \n",
       "\n",
       "        Balance  \n",
       "0  5.422000e+10  \n",
       "1  5.422000e+10  \n",
       "2  5.422000e+10  \n",
       "3  5.422000e+10  \n",
       "4  5.422000e+10  "
      ]
     },
     "execution_count": 2,
     "metadata": {},
     "output_type": "execute_result"
    }
   ],
   "source": [
    "import warnings\n",
    "warnings.simplefilter(action='ignore', category=FutureWarning)\n",
    "#To avoid FutureWarning: Using a non-tuple sequence for multidimensional indexing is deprecated; use `arr[tuple(seq)]` instead of `arr[seq]`. In the future this will be interpreted as an array index, `arr[np.array(seq)]`, which will result either in an error or a different result.\n",
    "import pandas as pd\n",
    "import matplotlib.pyplot as plt\n",
    "import numpy as np\n",
    "nepse_combined_data = pd.read_csv('/var/www/data-mining/data-science-class/data/combined-nepse.csv')\n",
    "nepse_combined_data.head()\n"
   ]
  },
  {
   "attachments": {},
   "cell_type": "markdown",
   "metadata": {},
   "source": [
    "### Add Twitter Sentiment Score to NEPSE dataset (We don't have current dataset so lets add all positive for now)"
   ]
  },
  {
   "cell_type": "code",
   "execution_count": null,
   "metadata": {},
   "outputs": [],
   "source": [
    "import datetime\n",
    "# date_wise_sentiment_score = []\n",
    "\n",
    "# for index,row in nepse_combined_data.iterrows():\n",
    "#     tweets_of_the_day = (tweets_from_2016.loc[tweets_from_2016.index==index]).groupby('date')['target'].mean()\n",
    "#     print(tweets_of_the_day)\n",
    "#     break\n"
   ]
  },
  {
   "attachments": {},
   "cell_type": "markdown",
   "metadata": {},
   "source": [
    "### Feature Selection and Scaling"
   ]
  },
  {
   "cell_type": "code",
   "execution_count": 21,
   "metadata": {},
   "outputs": [
    {
     "data": {
      "text/html": [
       "<div>\n",
       "<style scoped>\n",
       "    .dataframe tbody tr th:only-of-type {\n",
       "        vertical-align: middle;\n",
       "    }\n",
       "\n",
       "    .dataframe tbody tr th {\n",
       "        vertical-align: top;\n",
       "    }\n",
       "\n",
       "    .dataframe thead th {\n",
       "        text-align: right;\n",
       "    }\n",
       "</style>\n",
       "<table border=\"1\" class=\"dataframe\">\n",
       "  <thead>\n",
       "    <tr style=\"text-align: right;\">\n",
       "      <th></th>\n",
       "      <th>close_index</th>\n",
       "      <th>turnover</th>\n",
       "      <th>BaseInterestRate</th>\n",
       "      <th>InflationRate</th>\n",
       "      <th>Balance</th>\n",
       "      <th>change_</th>\n",
       "      <th>open</th>\n",
       "      <th>SentimentScore</th>\n",
       "      <th>Trend</th>\n",
       "      <th>FutureTrend</th>\n",
       "    </tr>\n",
       "    <tr>\n",
       "      <th>Date</th>\n",
       "      <th></th>\n",
       "      <th></th>\n",
       "      <th></th>\n",
       "      <th></th>\n",
       "      <th></th>\n",
       "      <th></th>\n",
       "      <th></th>\n",
       "      <th></th>\n",
       "      <th></th>\n",
       "      <th></th>\n",
       "    </tr>\n",
       "  </thead>\n",
       "  <tbody>\n",
       "    <tr>\n",
       "      <th>2017-07-16</th>\n",
       "      <td>1583.57</td>\n",
       "      <td>430.724000</td>\n",
       "      <td>5.75</td>\n",
       "      <td>3.4</td>\n",
       "      <td>54219.996176</td>\n",
       "      <td>0.90</td>\n",
       "      <td>1582.67</td>\n",
       "      <td>0.7</td>\n",
       "      <td>1</td>\n",
       "      <td>2</td>\n",
       "    </tr>\n",
       "    <tr>\n",
       "      <th>2017-07-17</th>\n",
       "      <td>1604.15</td>\n",
       "      <td>599.289984</td>\n",
       "      <td>5.75</td>\n",
       "      <td>3.4</td>\n",
       "      <td>54219.996176</td>\n",
       "      <td>20.58</td>\n",
       "      <td>1583.57</td>\n",
       "      <td>0.7</td>\n",
       "      <td>1</td>\n",
       "      <td>2</td>\n",
       "    </tr>\n",
       "    <tr>\n",
       "      <th>2017-07-18</th>\n",
       "      <td>1638.41</td>\n",
       "      <td>1102.710016</td>\n",
       "      <td>5.75</td>\n",
       "      <td>3.4</td>\n",
       "      <td>54219.996176</td>\n",
       "      <td>34.26</td>\n",
       "      <td>1604.15</td>\n",
       "      <td>0.7</td>\n",
       "      <td>1</td>\n",
       "      <td>2</td>\n",
       "    </tr>\n",
       "    <tr>\n",
       "      <th>2017-07-19</th>\n",
       "      <td>1637.27</td>\n",
       "      <td>1107.469952</td>\n",
       "      <td>5.75</td>\n",
       "      <td>3.4</td>\n",
       "      <td>54219.996176</td>\n",
       "      <td>-1.14</td>\n",
       "      <td>1638.41</td>\n",
       "      <td>0.7</td>\n",
       "      <td>2</td>\n",
       "      <td>2</td>\n",
       "    </tr>\n",
       "    <tr>\n",
       "      <th>2017-07-20</th>\n",
       "      <td>1635.75</td>\n",
       "      <td>907.945984</td>\n",
       "      <td>5.75</td>\n",
       "      <td>3.4</td>\n",
       "      <td>54219.996176</td>\n",
       "      <td>-1.52</td>\n",
       "      <td>1637.27</td>\n",
       "      <td>0.7</td>\n",
       "      <td>2</td>\n",
       "      <td>2</td>\n",
       "    </tr>\n",
       "  </tbody>\n",
       "</table>\n",
       "</div>"
      ],
      "text/plain": [
       "            close_index     turnover  BaseInterestRate  InflationRate  \\\n",
       "Date                                                                    \n",
       "2017-07-16      1583.57   430.724000              5.75            3.4   \n",
       "2017-07-17      1604.15   599.289984              5.75            3.4   \n",
       "2017-07-18      1638.41  1102.710016              5.75            3.4   \n",
       "2017-07-19      1637.27  1107.469952              5.75            3.4   \n",
       "2017-07-20      1635.75   907.945984              5.75            3.4   \n",
       "\n",
       "                 Balance  change_     open  SentimentScore  Trend  FutureTrend  \n",
       "Date                                                                            \n",
       "2017-07-16  54219.996176     0.90  1582.67             0.7      1            2  \n",
       "2017-07-17  54219.996176    20.58  1583.57             0.7      1            2  \n",
       "2017-07-18  54219.996176    34.26  1604.15             0.7      1            2  \n",
       "2017-07-19  54219.996176    -1.14  1638.41             0.7      2            2  \n",
       "2017-07-20  54219.996176    -1.52  1637.27             0.7      2            2  "
      ]
     },
     "execution_count": 21,
     "metadata": {},
     "output_type": "execute_result"
    }
   ],
   "source": [
    "\n",
    "# only select the required columns\n",
    "FEATURES = ['close_index','turnover','BaseInterestRate','InflationRate','Balance','change_','open','Date']\n",
    "data_filtered = nepse_combined_data[FEATURES]\n",
    "# We add a prediction column and set dummy values to prepare the data for scaling\n",
    "data_filtered_ext = data_filtered.copy()\n",
    "data_filtered_ext['SentimentScore'] = 0.7\n",
    "def feature_selection(df):\n",
    "\n",
    "    df['turnover'] = df['turnover'] / 1000000\n",
    "    df['Balance'] = df['Balance']/1000000\n",
    "    #  add  trend\n",
    "    df['Trend']  = 0 # 0='Neutral',1=Positive,2=Negative\n",
    "    # add future trend\n",
    "    df['FutureTrend'] =0\n",
    "\n",
    "    for index,row in df.iterrows():\n",
    "        trend_value = row['close_index']- row['open']\n",
    "        df.loc[index,'Trend'] = 1 if trend_value>0 else (0 if trend_value==0 else 2)\n",
    "        next_10_days_index = index+10\n",
    "        if next_10_days_index not in df.index:\n",
    "            next_10_days_index = np.max(df.index)\n",
    "        nextn_days_df = df.loc[next_10_days_index]\n",
    "        trend_value_ndays = row['close_index']- nextn_days_df['close_index']\n",
    "        df.loc[index,'FutureTrend'] = 1 if trend_value_ndays>0 else (0 if trend_value_ndays==0 else 2)\n",
    "    # make date as index\n",
    "  \n",
    "    return df\n",
    "\n",
    "data_filtered_ext= feature_selection(data_filtered_ext)\n",
    "data_filtered_ext['Date'] = pd.to_datetime(data_filtered_ext['Date'], errors='coerce')\n",
    "data_filtered_ext.index = pd.to_datetime(data_filtered_ext['Date'],format='%y-%m-%d')\n",
    "data_filtered_ext = data_filtered_ext.sort_index(ascending=True)\n",
    "data_filtered_ext = data_filtered_ext.drop('Date',axis=1)\n",
    "data_filtered_ext.head()"
   ]
  },
  {
   "attachments": {},
   "cell_type": "markdown",
   "metadata": {},
   "source": [
    "### Scaling the Multivariate Input Data"
   ]
  },
  {
   "cell_type": "code",
   "execution_count": 39,
   "metadata": {},
   "outputs": [
    {
     "name": "stdout",
     "output_type": "stream",
     "text": [
      "(1304, 10)\n"
     ]
    }
   ],
   "source": [
    "# Get the number of rows in the data\n",
    "from sklearn.preprocessing import MinMaxScaler\n",
    "\n",
    "\n",
    "nrows = data_filtered_ext.shape[0]\n",
    "\n",
    "# Convert the data to numpy values\n",
    "np_data_unscaled = np.array(data_filtered_ext)\n",
    "np_data = np.reshape(np_data_unscaled, (nrows, -1))\n",
    "print(np_data.shape)\n",
    "\n",
    "# Transform the data by scaling each feature to a range between 0 and 1\n",
    "scaler = MinMaxScaler()\n",
    "np_data_scaled = scaler.fit_transform(np_data_unscaled)\n",
    "\n",
    "# Creating a separate scaler that works on a single column for scaling predictions\n",
    "scaler_pred = MinMaxScaler()\n",
    "df_Close = pd.DataFrame(data_filtered_ext['close_index'])\n",
    "np_Close_scaled = scaler_pred.fit_transform(df_Close)\n",
    "\n"
   ]
  },
  {
   "attachments": {},
   "cell_type": "markdown",
   "metadata": {},
   "source": [
    "### Transforming the Multivariate Data"
   ]
  },
  {
   "cell_type": "code",
   "execution_count": 40,
   "metadata": {},
   "outputs": [
    {
     "name": "stdout",
     "output_type": "stream",
     "text": [
      "(1034, 10, 10) (1034,)\n",
      "(260, 10, 10) (260,)\n",
      "0.25867246260760146\n",
      "0.25867246260760146\n"
     ]
    }
   ],
   "source": [
    "# Set the sequence length - this is the timeframe used to make a single prediction\n",
    "import math\n",
    "sequence_length = 10\n",
    "# Prediction Index\n",
    "index_Close = data_filtered.columns.get_loc(\"close_index\")\n",
    "\n",
    "# Split the training data into train and train data sets\n",
    "# As a first step, we get the number of rows to train the model on 80% of the data \n",
    "train_data_len = math.ceil(np_data_scaled.shape[0] * 0.8)\n",
    "\n",
    "# Create the training and test data\n",
    "train_data = np_data_scaled[0:train_data_len, :]\n",
    "test_data = np_data_scaled[train_data_len - sequence_length:, :]\n",
    "\n",
    "# The RNN needs data with the format of [samples, time steps, features]\n",
    "# Here, we create N samples, sequence_length time steps per sample, and 6 features\n",
    "def partition_dataset(sequence_length, data):\n",
    "    x, y = [], []\n",
    "    data_len = data.shape[0]\n",
    "    for i in range(sequence_length, data_len):\n",
    "        x.append(data[i-sequence_length:i,:]) #contains sequence_length values 0-sequence_length * columsn\n",
    "        y.append(data[i, index_Close]) #contains the prediction values for validation,  for single-step prediction\n",
    "    \n",
    "    # Convert the x and y to numpy arrays\n",
    "    x = np.array(x)\n",
    "    y = np.array(y)\n",
    "    return x, y\n",
    "\n",
    "# Generate training data and test data\n",
    "x_train, y_train = partition_dataset(sequence_length, train_data)\n",
    "x_test, y_test = partition_dataset(sequence_length, test_data)\n",
    "\n",
    "# Print the shapes: the result is: (rows, training_sequence, features) (prediction value, )\n",
    "print(x_train.shape, y_train.shape)\n",
    "print(x_test.shape, y_test.shape)\n",
    "\n",
    "# Validate that the prediction value and the input match up\n",
    "# The last close price of the second input sample should equal the first prediction value\n",
    "print(x_train[1][sequence_length-1][index_Close])\n",
    "print(y_train[0])"
   ]
  },
  {
   "attachments": {},
   "cell_type": "markdown",
   "metadata": {},
   "source": [
    "### Train the Multivariate Prediction Model"
   ]
  },
  {
   "cell_type": "code",
   "execution_count": 41,
   "metadata": {},
   "outputs": [
    {
     "name": "stdout",
     "output_type": "stream",
     "text": [
      "100\n",
      "100 10 10\n",
      "Epoch 1/20\n",
      "65/65 [==============================] - 5s 22ms/step - loss: 0.0087 - val_loss: 6.7307e-04\n",
      "Epoch 2/20\n",
      "65/65 [==============================] - 1s 13ms/step - loss: 3.6837e-04 - val_loss: 5.7185e-04\n",
      "Epoch 3/20\n",
      "65/65 [==============================] - 1s 13ms/step - loss: 2.8833e-04 - val_loss: 4.1030e-04\n",
      "Epoch 4/20\n",
      "65/65 [==============================] - 1s 14ms/step - loss: 2.5458e-04 - val_loss: 4.1402e-04\n",
      "Epoch 5/20\n",
      "65/65 [==============================] - 1s 16ms/step - loss: 4.4685e-04 - val_loss: 0.0012\n",
      "Epoch 6/20\n",
      "65/65 [==============================] - 1s 14ms/step - loss: 2.5441e-04 - val_loss: 7.9276e-04\n",
      "Epoch 7/20\n",
      "65/65 [==============================] - 1s 14ms/step - loss: 2.5869e-04 - val_loss: 3.6795e-04\n",
      "Epoch 8/20\n",
      "65/65 [==============================] - 1s 11ms/step - loss: 4.0627e-04 - val_loss: 7.0235e-04\n",
      "Epoch 9/20\n",
      "65/65 [==============================] - 1s 9ms/step - loss: 2.2502e-04 - val_loss: 4.0433e-04\n",
      "Epoch 10/20\n",
      "65/65 [==============================] - 1s 12ms/step - loss: 2.3104e-04 - val_loss: 5.7663e-04\n",
      "Epoch 11/20\n",
      "65/65 [==============================] - 1s 14ms/step - loss: 2.0649e-04 - val_loss: 8.3027e-04\n",
      "Epoch 12/20\n",
      "65/65 [==============================] - 1s 15ms/step - loss: 2.8446e-04 - val_loss: 2.5667e-04\n",
      "Epoch 13/20\n",
      "65/65 [==============================] - 1s 12ms/step - loss: 3.2569e-04 - val_loss: 4.9094e-04\n",
      "Epoch 14/20\n",
      "65/65 [==============================] - 1s 16ms/step - loss: 3.3143e-04 - val_loss: 4.5840e-04\n",
      "Epoch 15/20\n",
      "65/65 [==============================] - 1s 13ms/step - loss: 2.7318e-04 - val_loss: 0.0027\n",
      "Epoch 16/20\n",
      "65/65 [==============================] - 1s 15ms/step - loss: 3.9240e-04 - val_loss: 2.4914e-04\n",
      "Epoch 17/20\n",
      "65/65 [==============================] - 1s 14ms/step - loss: 2.3470e-04 - val_loss: 4.8003e-04\n",
      "Epoch 18/20\n",
      "65/65 [==============================] - 1s 13ms/step - loss: 3.4236e-04 - val_loss: 0.0024\n",
      "Epoch 19/20\n",
      "65/65 [==============================] - 1s 13ms/step - loss: 2.0748e-04 - val_loss: 0.0013\n",
      "Epoch 20/20\n",
      "65/65 [==============================] - 1s 12ms/step - loss: 2.5557e-04 - val_loss: 3.3731e-04\n"
     ]
    }
   ],
   "source": [
    "# Configure the neural network model\n",
    "from keras import Sequential \n",
    "from keras.layers import LSTM, Dense, Dropout,Bidirectional \n",
    "from keras.callbacks import EarlyStopping\n",
    "\n",
    "\n",
    "nepse_predict_model = Sequential()\n",
    "# nepse_predict_model with n_neurons = inputshape Timestamps, each with x_train.shape[2] variables\n",
    "n_neurons = x_train.shape[1] * x_train.shape[2]\n",
    "print(n_neurons)\n",
    "print(n_neurons, x_train.shape[1], x_train.shape[2])\n",
    "nepse_predict_model.add(Bidirectional(LSTM(n_neurons, return_sequences=True, input_shape=(x_train.shape[1], x_train.shape[2])))) \n",
    "nepse_predict_model.add(Bidirectional(LSTM(n_neurons, return_sequences=False)))\n",
    "nepse_predict_model.add(Dense(5))\n",
    "nepse_predict_model.add(Dense(1))\n",
    "\n",
    "# Compile the nepse_predict_model\n",
    "nepse_predict_model.compile(optimizer='adam', loss='mse')\n",
    "\n",
    "# Training the nepse_predict_model\n",
    "epochs = 20\n",
    "batch_size = 16\n",
    "early_stop = EarlyStopping(monitor='val_loss', mode='min', patience=5, verbose=1)\n",
    "history = nepse_predict_model.fit(x_train, y_train, \n",
    "                    batch_size=batch_size, \n",
    "                    epochs=epochs,\n",
    "                    validation_data=(x_test, y_test),\n",
    "                     callbacks=[early_stop]\n",
    "                   )"
   ]
  },
  {
   "attachments": {},
   "cell_type": "markdown",
   "metadata": {},
   "source": [
    "#### Plot the loss curve"
   ]
  },
  {
   "cell_type": "code",
   "execution_count": 42,
   "metadata": {},
   "outputs": [
    {
     "data": {
      "image/png": "[encoded data removed]",
      "text/plain": [
       "<Figure size 1600x500 with 1 Axes>"
      ]
     },
     "metadata": {},
     "output_type": "display_data"
    }
   ],
   "source": [
    "import seaborn as sns\n",
    "fig, ax = plt.subplots(figsize=(16, 5), sharex=True)\n",
    "sns.lineplot(data=history.history[\"loss\"])\n",
    "plt.title(\"Model loss\")\n",
    "plt.ylabel(\"Loss\")\n",
    "plt.xlabel(\"Epoch\")\n",
    "ax.xaxis.set_major_locator(plt.MaxNLocator(epochs))\n",
    "plt.legend([\"Train\", \"Test\"], loc=\"upper left\")\n",
    "plt.grid()\n",
    "plt.show()"
   ]
  },
  {
   "attachments": {},
   "cell_type": "markdown",
   "metadata": {},
   "source": [
    "#### Evaluate Model Performance"
   ]
  },
  {
   "cell_type": "code",
   "execution_count": 43,
   "metadata": {},
   "outputs": [
    {
     "name": "stdout",
     "output_type": "stream",
     "text": [
      "3/3 [==============================] - 0s 9ms/step - loss: 3.3731e-04\n",
      "{'loss': 0.00033730597351677716}\n"
     ]
    },
    {
     "data": {
      "text/plain": [
       "{'loss': [0.008718336001038551,\n",
       "  0.0003683651448227465,\n",
       "  0.00028832725365646183,\n",
       "  0.00025458025629632175,\n",
       "  0.00044685223838314414,\n",
       "  0.00025440636090934277,\n",
       "  0.00025868721422739327,\n",
       "  0.00040626624831929803,\n",
       "  0.0002250216930406168,\n",
       "  0.0002310350100742653,\n",
       "  0.00020648687495850027,\n",
       "  0.0002844634000211954,\n",
       "  0.000325692817568779,\n",
       "  0.0003314295317977667,\n",
       "  0.0002731758286245167,\n",
       "  0.00039240127080120146,\n",
       "  0.00023469659208785743,\n",
       "  0.00034235743805766106,\n",
       "  0.00020748387032654136,\n",
       "  0.0002555720857344568],\n",
       " 'val_loss': [0.000673071073833853,\n",
       "  0.0005718477186746895,\n",
       "  0.0004103009996470064,\n",
       "  0.000414018431911245,\n",
       "  0.0012227700790390372,\n",
       "  0.0007927618571557105,\n",
       "  0.00036795332562178373,\n",
       "  0.0007023518555797637,\n",
       "  0.0004043261578772217,\n",
       "  0.0005766268586739898,\n",
       "  0.0008302684873342514,\n",
       "  0.0002566706098150462,\n",
       "  0.0004909445997327566,\n",
       "  0.00045839918311685324,\n",
       "  0.002688374137505889,\n",
       "  0.00024914045934565365,\n",
       "  0.0004800272872671485,\n",
       "  0.0023649747017771006,\n",
       "  0.0013342141173779964,\n",
       "  0.0003373059444129467]}"
      ]
     },
     "execution_count": 43,
     "metadata": {},
     "output_type": "execute_result"
    }
   ],
   "source": [
    "results = nepse_predict_model.evaluate(x_test, y_test, batch_size=128,return_dict=True)\n",
    "print(results)\n",
    "history.history\n"
   ]
  },
  {
   "cell_type": "code",
   "execution_count": 44,
   "metadata": {},
   "outputs": [
    {
     "name": "stdout",
     "output_type": "stream",
     "text": [
      "9/9 [==============================] - 1s 4ms/step\n",
      "Median Absolute Error (MAE): 30.09\n",
      "Mean Absolute Percentage Error (MAPE): 1.4 %\n",
      "Median Absolute Percentage Error (MDAPE): 1.21 %\n"
     ]
    }
   ],
   "source": [
    "# Get the predicted values\n",
    "from sklearn.metrics import mean_absolute_error\n",
    "\n",
    "\n",
    "y_pred_scaled = nepse_predict_model.predict(x_test)\n",
    "\n",
    "# Unscale the predicted values\n",
    "y_pred = scaler_pred.inverse_transform(y_pred_scaled)\n",
    "y_test_unscaled = scaler_pred.inverse_transform(y_test.reshape(-1, 1))\n",
    "\n",
    "# Mean Absolute Error (MAE)\n",
    "MAE = mean_absolute_error(y_test_unscaled, y_pred)\n",
    "print(f'Median Absolute Error (MAE): {np.round(MAE, 2)}')\n",
    "\n",
    "# Mean Absolute Percentage Error (MAPE)\n",
    "MAPE = np.mean((np.abs(np.subtract(y_test_unscaled, y_pred)/ y_test_unscaled))) * 100\n",
    "print(f'Mean Absolute Percentage Error (MAPE): {np.round(MAPE, 2)} %')\n",
    "\n",
    "# Median Absolute Percentage Error (MDAPE)\n",
    "MDAPE = np.median((np.abs(np.subtract(y_test_unscaled, y_pred)/ y_test_unscaled)) ) * 100\n",
    "print(f'Median Absolute Percentage Error (MDAPE): {np.round(MDAPE, 2)} %')"
   ]
  },
  {
   "attachments": {},
   "cell_type": "markdown",
   "metadata": {},
   "source": [
    "#### Create Graph and compare the forecast with actual Values"
   ]
  },
  {
   "cell_type": "code",
   "execution_count": 45,
   "metadata": {},
   "outputs": [
    {
     "data": {
      "image/png": "[encoded data removed]",
      "text/plain": [
       "<Figure size 1600x800 with 1 Axes>"
      ]
     },
     "metadata": {},
     "output_type": "display_data"
    }
   ],
   "source": [
    "# The date from which on the date is displayed\n",
    "display_start_date = \"2019-01-01\" \n",
    "\n",
    "# Add the difference between the valid and predicted prices\n",
    "train = pd.DataFrame(data_filtered_ext['close_index'][:train_data_len + 1]).rename(columns={'close_index': 'y_train'})\n",
    "valid = pd.DataFrame(data_filtered_ext['close_index'][train_data_len:]).rename(columns={'close_index': 'y_test'})\n",
    "valid.insert(1, \"y_pred\", y_pred, True)\n",
    "valid.insert(1, \"residuals\", valid[\"y_pred\"] - valid[\"y_test\"], True)\n",
    "df_union = pd.concat([train, valid])\n",
    "\n",
    "# Zoom in to a closer timeframe\n",
    "df_union_zoom = df_union[df_union.index > display_start_date]\n",
    "\n",
    "# Create the lineplot\n",
    "fig, ax1 = plt.subplots(figsize=(16, 8))\n",
    "plt.title(\"y_pred vs y_test\")\n",
    "plt.ylabel('NEPSE Index', fontsize=18)\n",
    "sns.set_palette([\"#090364\", \"#1960EF\", \"#EF5919\"])\n",
    "sns.lineplot(data=df_union_zoom[['y_pred', 'y_train', 'y_test']], linewidth=1.0, dashes=False, ax=ax1)\n",
    "\n",
    "# Create the bar plot with the differences\n",
    "df_sub = [\"#2BC97A\" if x > 0 else \"#C92B2B\" for x in df_union_zoom[\"residuals\"].dropna()]\n",
    "ax1.bar(height=df_union_zoom['residuals'].dropna(), x=df_union_zoom['residuals'].dropna().index, width=3, label='residuals', color=df_sub)\n",
    "plt.legend()\n",
    "plt.show()"
   ]
  },
  {
   "attachments": {},
   "cell_type": "markdown",
   "metadata": {},
   "source": [
    "### Predict for Next Day's Index"
   ]
  },
  {
   "cell_type": "code",
   "execution_count": 30,
   "metadata": {},
   "outputs": [
    {
     "ename": "ValueError",
     "evalue": "X has 7 features, but MinMaxScaler is expecting 10 features as input.",
     "output_type": "error",
     "traceback": [
      "\u001b[0;31m---------------------------------------------------------------------------\u001b[0m",
      "\u001b[0;31mValueError\u001b[0m                                Traceback (most recent call last)",
      "\u001b[1;32m/var/www/data-mining/nepse-sentiment-analysis/nepse-sentiment-analysis.ipynb Cell 35\u001b[0m in \u001b[0;36m9\n\u001b[1;32m      <a href='vscode-notebook-cell:/var/www/data-mining/nepse-sentiment-analysis/nepse-sentiment-analysis.ipynb#X46sZmlsZQ%3D%3D?line=6'>7</a>\u001b[0m \u001b[39m# Get the last N day closing price values and scale the data to be values between 0 and 1\u001b[39;00m\n\u001b[1;32m      <a href='vscode-notebook-cell:/var/www/data-mining/nepse-sentiment-analysis/nepse-sentiment-analysis.ipynb#X46sZmlsZQ%3D%3D?line=7'>8</a>\u001b[0m last_N_days \u001b[39m=\u001b[39m new_df[\u001b[39m-\u001b[39msequence_length:]\u001b[39m.\u001b[39mvalues\n\u001b[0;32m----> <a href='vscode-notebook-cell:/var/www/data-mining/nepse-sentiment-analysis/nepse-sentiment-analysis.ipynb#X46sZmlsZQ%3D%3D?line=8'>9</a>\u001b[0m last_N_days_scaled \u001b[39m=\u001b[39m scaler\u001b[39m.\u001b[39;49mtransform(last_N_days)\n\u001b[1;32m     <a href='vscode-notebook-cell:/var/www/data-mining/nepse-sentiment-analysis/nepse-sentiment-analysis.ipynb#X46sZmlsZQ%3D%3D?line=10'>11</a>\u001b[0m \u001b[39m# Create an empty list and Append past N days\u001b[39;00m\n\u001b[1;32m     <a href='vscode-notebook-cell:/var/www/data-mining/nepse-sentiment-analysis/nepse-sentiment-analysis.ipynb#X46sZmlsZQ%3D%3D?line=11'>12</a>\u001b[0m X_test_new \u001b[39m=\u001b[39m []\n",
      "File \u001b[0;32m~/.local/lib/python3.8/site-packages/sklearn/utils/_set_output.py:140\u001b[0m, in \u001b[0;36m_wrap_method_output.<locals>.wrapped\u001b[0;34m(self, X, *args, **kwargs)\u001b[0m\n\u001b[1;32m    138\u001b[0m \u001b[39m@wraps\u001b[39m(f)\n\u001b[1;32m    139\u001b[0m \u001b[39mdef\u001b[39;00m \u001b[39mwrapped\u001b[39m(\u001b[39mself\u001b[39m, X, \u001b[39m*\u001b[39margs, \u001b[39m*\u001b[39m\u001b[39m*\u001b[39mkwargs):\n\u001b[0;32m--> 140\u001b[0m     data_to_wrap \u001b[39m=\u001b[39m f(\u001b[39mself\u001b[39;49m, X, \u001b[39m*\u001b[39;49margs, \u001b[39m*\u001b[39;49m\u001b[39m*\u001b[39;49mkwargs)\n\u001b[1;32m    141\u001b[0m     \u001b[39mif\u001b[39;00m \u001b[39misinstance\u001b[39m(data_to_wrap, \u001b[39mtuple\u001b[39m):\n\u001b[1;32m    142\u001b[0m         \u001b[39m# only wrap the first output for cross decomposition\u001b[39;00m\n\u001b[1;32m    143\u001b[0m         \u001b[39mreturn\u001b[39;00m (\n\u001b[1;32m    144\u001b[0m             _wrap_data_with_container(method, data_to_wrap[\u001b[39m0\u001b[39m], X, \u001b[39mself\u001b[39m),\n\u001b[1;32m    145\u001b[0m             \u001b[39m*\u001b[39mdata_to_wrap[\u001b[39m1\u001b[39m:],\n\u001b[1;32m    146\u001b[0m         )\n",
      "File \u001b[0;32m~/.local/lib/python3.8/site-packages/sklearn/preprocessing/_data.py:508\u001b[0m, in \u001b[0;36mMinMaxScaler.transform\u001b[0;34m(self, X)\u001b[0m\n\u001b[1;32m    494\u001b[0m \u001b[39m\"\"\"Scale features of X according to feature_range.\u001b[39;00m\n\u001b[1;32m    495\u001b[0m \n\u001b[1;32m    496\u001b[0m \u001b[39mParameters\u001b[39;00m\n\u001b[0;32m   (...)\u001b[0m\n\u001b[1;32m    504\u001b[0m \u001b[39m    Transformed data.\u001b[39;00m\n\u001b[1;32m    505\u001b[0m \u001b[39m\"\"\"\u001b[39;00m\n\u001b[1;32m    506\u001b[0m check_is_fitted(\u001b[39mself\u001b[39m)\n\u001b[0;32m--> 508\u001b[0m X \u001b[39m=\u001b[39m \u001b[39mself\u001b[39;49m\u001b[39m.\u001b[39;49m_validate_data(\n\u001b[1;32m    509\u001b[0m     X,\n\u001b[1;32m    510\u001b[0m     copy\u001b[39m=\u001b[39;49m\u001b[39mself\u001b[39;49m\u001b[39m.\u001b[39;49mcopy,\n\u001b[1;32m    511\u001b[0m     dtype\u001b[39m=\u001b[39;49mFLOAT_DTYPES,\n\u001b[1;32m    512\u001b[0m     force_all_finite\u001b[39m=\u001b[39;49m\u001b[39m\"\u001b[39;49m\u001b[39mallow-nan\u001b[39;49m\u001b[39m\"\u001b[39;49m,\n\u001b[1;32m    513\u001b[0m     reset\u001b[39m=\u001b[39;49m\u001b[39mFalse\u001b[39;49;00m,\n\u001b[1;32m    514\u001b[0m )\n\u001b[1;32m    516\u001b[0m X \u001b[39m*\u001b[39m\u001b[39m=\u001b[39m \u001b[39mself\u001b[39m\u001b[39m.\u001b[39mscale_\n\u001b[1;32m    517\u001b[0m X \u001b[39m+\u001b[39m\u001b[39m=\u001b[39m \u001b[39mself\u001b[39m\u001b[39m.\u001b[39mmin_\n",
      "File \u001b[0;32m~/.local/lib/python3.8/site-packages/sklearn/base.py:588\u001b[0m, in \u001b[0;36mBaseEstimator._validate_data\u001b[0;34m(self, X, y, reset, validate_separately, **check_params)\u001b[0m\n\u001b[1;32m    585\u001b[0m     out \u001b[39m=\u001b[39m X, y\n\u001b[1;32m    587\u001b[0m \u001b[39mif\u001b[39;00m \u001b[39mnot\u001b[39;00m no_val_X \u001b[39mand\u001b[39;00m check_params\u001b[39m.\u001b[39mget(\u001b[39m\"\u001b[39m\u001b[39mensure_2d\u001b[39m\u001b[39m\"\u001b[39m, \u001b[39mTrue\u001b[39;00m):\n\u001b[0;32m--> 588\u001b[0m     \u001b[39mself\u001b[39;49m\u001b[39m.\u001b[39;49m_check_n_features(X, reset\u001b[39m=\u001b[39;49mreset)\n\u001b[1;32m    590\u001b[0m \u001b[39mreturn\u001b[39;00m out\n",
      "File \u001b[0;32m~/.local/lib/python3.8/site-packages/sklearn/base.py:389\u001b[0m, in \u001b[0;36mBaseEstimator._check_n_features\u001b[0;34m(self, X, reset)\u001b[0m\n\u001b[1;32m    386\u001b[0m     \u001b[39mreturn\u001b[39;00m\n\u001b[1;32m    388\u001b[0m \u001b[39mif\u001b[39;00m n_features \u001b[39m!=\u001b[39m \u001b[39mself\u001b[39m\u001b[39m.\u001b[39mn_features_in_:\n\u001b[0;32m--> 389\u001b[0m     \u001b[39mraise\u001b[39;00m \u001b[39mValueError\u001b[39;00m(\n\u001b[1;32m    390\u001b[0m         \u001b[39mf\u001b[39m\u001b[39m\"\u001b[39m\u001b[39mX has \u001b[39m\u001b[39m{\u001b[39;00mn_features\u001b[39m}\u001b[39;00m\u001b[39m features, but \u001b[39m\u001b[39m{\u001b[39;00m\u001b[39mself\u001b[39m\u001b[39m.\u001b[39m\u001b[39m__class__\u001b[39m\u001b[39m.\u001b[39m\u001b[39m__name__\u001b[39m\u001b[39m}\u001b[39;00m\u001b[39m \u001b[39m\u001b[39m\"\u001b[39m\n\u001b[1;32m    391\u001b[0m         \u001b[39mf\u001b[39m\u001b[39m\"\u001b[39m\u001b[39mis expecting \u001b[39m\u001b[39m{\u001b[39;00m\u001b[39mself\u001b[39m\u001b[39m.\u001b[39mn_features_in_\u001b[39m}\u001b[39;00m\u001b[39m features as input.\u001b[39m\u001b[39m\"\u001b[39m\n\u001b[1;32m    392\u001b[0m     )\n",
      "\u001b[0;31mValueError\u001b[0m: X has 7 features, but MinMaxScaler is expecting 10 features as input."
     ]
    }
   ],
   "source": [
    "df_temp = nepse_combined_data[-sequence_length:]\n",
    "df_temp = df_temp.sort_index(ascending=True)\n",
    "df_temp = df_temp.drop('Date',axis=1)\n",
    "new_df = df_temp.filter(FEATURES)\n",
    "N = sequence_length\n",
    "end_date = '2023-02-15' \n",
    "# Get the last N day closing price values and scale the data to be values between 0 and 1\n",
    "last_N_days = new_df[-sequence_length:].values\n",
    "last_N_days_scaled = scaler.transform(last_N_days)\n",
    "\n",
    "# Create an empty list and Append past N days\n",
    "X_test_new = []\n",
    "X_test_new.append(last_N_days_scaled)\n",
    "\n",
    "# Convert the X_test data set to a numpy array and reshape the data\n",
    "pred_index_scaled = nepse_predict_model.predict(np.array(X_test_new))\n",
    "pred_index_unscaled = scaler_pred.inverse_transform(pred_index_scaled.reshape(-1, 1))\n",
    "\n",
    "# Print last price and predicted price for the next day\n",
    "index_today = 2090.49\n",
    "predicted_index = np.round(pred_index_unscaled.ravel()[0], 2)\n",
    "change_percent = np.round(100 - (index_today * 100)/predicted_index, 2)\n",
    "\n",
    "plus = '+'; minus = ''\n",
    "print(f'Actual close index for NEPSE Index at {end_date} is {index_today}')\n",
    "print(f'The predicted close index is {predicted_index} ({plus if change_percent > 0 else minus}{change_percent}%)')\n",
    "df_temp.tail()"
   ]
  },
  {
   "cell_type": "code",
   "execution_count": null,
   "metadata": {},
   "outputs": [],
   "source": []
  }
 ],
 "metadata": {
  "kernelspec": {
   "display_name": "Python 3",
   "language": "python",
   "name": "python3"
  },
  "language_info": {
   "codemirror_mode": {
    "name": "ipython",
    "version": 3
   },
   "file_extension": ".py",
   "mimetype": "text/x-python",
   "name": "python",
   "nbconvert_exporter": "python",
   "pygments_lexer": "ipython3",
   "version": "3.8.10"
  },
  "orig_nbformat": 4,
  "vscode": {
   "interpreter": {
    "hash": "e7370f93d1d0cde622a1f8e1c04877d8463912d04d973331ad4851f04de6915a"
   }
  }
 },
 "nbformat": 4,
 "nbformat_minor": 2
}
