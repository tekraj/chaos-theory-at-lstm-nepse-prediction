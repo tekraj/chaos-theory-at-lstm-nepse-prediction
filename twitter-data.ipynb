{
 "cells": [
  {
   "cell_type": "markdown",
   "metadata": {},
   "source": [
    "# Fetch Tweets"
   ]
  },
  {
   "cell_type": "code",
   "execution_count": 1,
   "metadata": {},
   "outputs": [
    {
     "name": "stdout",
     "output_type": "stream",
     "text": [
      "Defaulting to user installation because normal site-packages is not writeable\n",
      "Collecting tweepy\n",
      "  Downloading tweepy-4.14.0-py3-none-any.whl (98 kB)\n",
      "\u001b[2K     \u001b[90m━━━━━━━━━━━━━━━━━━━━━━━━━━━━━━━━━━━━━━━\u001b[0m \u001b[32m98.5/98.5 KB\u001b[0m \u001b[31m618.4 kB/s\u001b[0m eta \u001b[36m0:00:00\u001b[0ma \u001b[36m0:00:01\u001b[0m\n",
      "\u001b[?25hRequirement already satisfied: oauthlib<4,>=3.2.0 in /usr/lib/python3/dist-packages (from tweepy) (3.2.0)\n",
      "Requirement already satisfied: requests<3,>=2.27.0 in /home/tek/.local/lib/python3.10/site-packages (from tweepy) (2.31.0)\n",
      "Requirement already satisfied: requests-oauthlib<2,>=1.2.0 in /home/tek/.local/lib/python3.10/site-packages (from tweepy) (1.3.1)\n",
      "Requirement already satisfied: certifi>=2017.4.17 in /usr/lib/python3/dist-packages (from requests<3,>=2.27.0->tweepy) (2020.6.20)\n",
      "Requirement already satisfied: charset-normalizer<4,>=2 in /home/tek/.local/lib/python3.10/site-packages (from requests<3,>=2.27.0->tweepy) (3.3.2)\n",
      "Requirement already satisfied: urllib3<3,>=1.21.1 in /usr/lib/python3/dist-packages (from requests<3,>=2.27.0->tweepy) (1.26.5)\n",
      "Requirement already satisfied: idna<4,>=2.5 in /usr/lib/python3/dist-packages (from requests<3,>=2.27.0->tweepy) (3.3)\n",
      "Installing collected packages: tweepy\n",
      "Successfully installed tweepy-4.14.0\n"
     ]
    }
   ],
   "source": [
    "!pip install tweepy"
   ]
  },
  {
   "cell_type": "code",
   "execution_count": 3,
   "metadata": {},
   "outputs": [
    {
     "name": "stdout",
     "output_type": "stream",
     "text": [
      "Error: 401 Unauthorized\n",
      "Unauthorized\n",
      "Tweets saved to data/finance_tweets_2024-12-11.csv\n"
     ]
    }
   ],
   "source": [
    "import tweepy\n",
    "import csv\n",
    "from datetime import datetime\n",
    "\n",
    "# Twitter API credentials\n",
    "# For API Keys and SECRETS please visit this link\n",
    "# https://developer.x.com/en/docs/authentication/oauth-1-0a/api-key-and-secret\n",
    "\n",
    "\n",
    "# Twitter API credentials\n",
    "API_KEY = 'your_api_key'\n",
    "API_SECRET = 'your_api_secret'\n",
    "ACCESS_TOKEN = 'your_access_token'\n",
    "ACCESS_TOKEN_SECRET = 'your_access_token_secret'\n",
    "BEARER_TOKEN = 'your_bearer_token'  # For the Academic Research API, optional\n",
    "\n",
    "# Authenticate with Twitter API\n",
    "client = tweepy.Client(bearer_token=BEARER_TOKEN, \n",
    "                       consumer_key=API_KEY, \n",
    "                       consumer_secret=API_SECRET, \n",
    "                       access_token=ACCESS_TOKEN, \n",
    "                       access_token_secret=ACCESS_TOKEN_SECRET)\n",
    "\n",
    "def fetch_tweets(query, max_results=100):\n",
    "    \"\"\"\n",
    "    Fetch tweets based on a query and location (Nepal).\n",
    "\n",
    "    Args:\n",
    "        query (str): Search query for tweets (e.g., \"finance\").\n",
    "        max_results (int): Maximum number of tweets to retrieve.\n",
    "\n",
    "    Returns:\n",
    "        list: A list of tweets with metadata.\n",
    "    \"\"\"\n",
    "    search_query = f\"{query} (Nepal OR Kathmandu OR Pokhara)\"  # Modify with relevant cities if needed\n",
    "    tweets = []\n",
    "\n",
    "    try:\n",
    "        response = client.search_recent_tweets(query=search_query, \n",
    "                                               max_results=max_results, \n",
    "                                               tweet_fields=['author_id', 'created_at', 'text'])\n",
    "        if response.data:\n",
    "            for tweet in response.data:\n",
    "                tweets.append({\n",
    "                    'author_id': tweet.author_id,\n",
    "                    'created_at': tweet.created_at,\n",
    "                    'text': tweet.text\n",
    "                })\n",
    "    except tweepy.TweepyException as e:\n",
    "        print(f\"Error: {e}\")\n",
    "\n",
    "    return tweets\n",
    "\n",
    "def save_tweets_to_csv(tweets, filename):\n",
    "    \"\"\"\n",
    "    Save tweets to a CSV file.\n",
    "\n",
    "    Args:\n",
    "        tweets (list): List of tweets with metadata.\n",
    "        filename (str): Name of the CSV file to save.\n",
    "    \"\"\"\n",
    "    # Define CSV headers\n",
    "    headers = ['Author ID', 'Created At', 'Tweet Text']\n",
    "\n",
    "    try:\n",
    "        with open(filename, mode='w', newline='', encoding='utf-8') as file:\n",
    "            writer = csv.writer(file)\n",
    "            writer.writerow(headers)  # Write headers\n",
    "\n",
    "            for tweet in tweets:\n",
    "                writer.writerow([tweet['author_id'], tweet['created_at'], tweet['text']])\n",
    "\n",
    "        print(f\"Tweets saved to {filename}\")\n",
    "    except Exception as e:\n",
    "        print(f\"Error saving to CSV: {e}\")\n",
    "\n",
    "finance_tweets = fetch_tweets(\"finance\", max_results=10)\n",
    "\n",
    "# Save tweets with the current date in the filename\n",
    "current_date = datetime.now().strftime(\"%Y-%m-%d\")\n",
    "csv_filename = f\"data/finance_tweets_{current_date}.csv\"\n",
    "save_tweets_to_csv(finance_tweets, csv_filename)\n",
    "\n"
   ]
  },
  {
   "cell_type": "code",
   "execution_count": null,
   "metadata": {},
   "outputs": [],
   "source": []
  }
 ],
 "metadata": {
  "kernelspec": {
   "display_name": "Python 3",
   "language": "python",
   "name": "python3"
  },
  "language_info": {
   "codemirror_mode": {
    "name": "ipython",
    "version": 3
   },
   "file_extension": ".py",
   "mimetype": "text/x-python",
   "name": "python",
   "nbconvert_exporter": "python",
   "pygments_lexer": "ipython3",
   "version": "3.10.12"
  }
 },
 "nbformat": 4,
 "nbformat_minor": 2
}
